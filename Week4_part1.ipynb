{
    "cells": [
        {
            "cell_type": "markdown",
            "metadata": {},
            "source": "# Best Nieghborhood for technology Company in Toronto"
        },
        {
            "cell_type": "markdown",
            "metadata": {},
            "source": "**Lemlem Ayele**.  \nNov 8th, 2019"
        },
        {
            "cell_type": "markdown",
            "metadata": {},
            "source": "## 1. Introduction\n"
        },
        {
            "cell_type": "markdown",
            "metadata": {},
            "source": "### 1.1 Background"
        },
        {
            "cell_type": "markdown",
            "metadata": {},
            "source": "<p>\nWith over $8 billion in contributions to annual employee wages,\nToronto's technology sector is one of the fast-growing in north America. Its great infrastructure, the ease of connection to the rest of the world,  good transit, and strong business-centric nature makes Toronto very attractive to international firms and companies.\nDexTR, a technology company based in San Francisco: engaged in design graphics processing units (GPUs), system chip for smartphone and vehicle navigation processors, is looking to open the second largest center in North America. \n</p>"
        },
        {
            "cell_type": "markdown",
            "metadata": {},
            "source": "### 1.2 Problem."
        },
        {
            "cell_type": "markdown",
            "metadata": {},
            "source": "After months of regress research and analysis, DexTR has been decided Toronto as the next logical location for expansion in North America. \nNow that the decision has been made, the objective of this capstone is to analyze and select the optimal location for the DexTR office in the city of Toronto. While not limited to, the criteria below are some of the guiding measures.\n\n----    \n* Neighborhood score\n* Accessibility and public transit\n* Venues\n* Population density.\n* Crime\n\n\n\n### 1.3 Interest\n\n<p>\nThe result of this analysis is of great interest to DexTR, using the above-listed criteria, the analysis will provide some useful measurable data which will aid the company in making an informed decision on the next office location.\nWhile DexTR has a vested interest at this point, this analysis will also provide helpful information for any startup or business considering Toronto. It can also have some useful insight for real estate companies, existing businesses, communities, and individuals.\n</p>"
        },
        {
            "cell_type": "markdown",
            "metadata": {},
            "source": "## 2.0 Data Acquisition and wrangling\n\n### 2.1 Data Source"
        },
        {
            "cell_type": "markdown",
            "metadata": {},
            "source": "<p> The data for the city of Toronto neighborhood was obtained by scraping the \n    <a href=\"https://en.wikipedia.org/wiki/List_of_postal_codes_of_Canada:_M\" target=\"blank\">Wikipedia</a> page for the postal code of the city of Toronto, which consisted of corresponding borough and neighborhood. Additional dataset to evaluate crime and population density is obtained from the Toronto Police service: public safety \n<a href=\"http://data.torontopolice.on.ca/datasets/98f7dde610b54b9081dfca80be453ac9_0\" target=\"blank\">data portoal.</a>\n  \n</p>\n\n#### 2.2 Data Wrangling\n<p>\nThe CSV file obtained by scraping the Wikipedia page was transformed into a pandas dataframe. They're some missing data, for example, rows with no assigned borough and neighborhood were dropped. While rows with postal code and borough, but no neighborhood, the neighborhood was set the same as its borough.\nAs for the crime dataset, the crime for each community was obtained, and cleaned by dropping any row that was not assigned.\nWe will then use a foursquare API to explore the different neighborhoods and boroughs to gain insight. Then we will do farther analysis by merging the two datasets for more in-depth insight.\n</p>\n"
        },
        {
            "cell_type": "code",
            "execution_count": null,
            "metadata": {},
            "outputs": [],
            "source": ""
        }
    ],
    "metadata": {
        "kernelspec": {
            "display_name": "Python 3.6",
            "language": "python",
            "name": "python3"
        },
        "language_info": {
            "codemirror_mode": {
                "name": "ipython",
                "version": 3
            },
            "file_extension": ".py",
            "mimetype": "text/x-python",
            "name": "python",
            "nbconvert_exporter": "python",
            "pygments_lexer": "ipython3",
            "version": "3.6.8"
        }
    },
    "nbformat": 4,
    "nbformat_minor": 1
}