  {
   "cell_type": "markdown",
   "metadata": {},
   "source": [
    "\n",
    "\n",
    "\n",
    "<h1><center>Best Nieghborhood for technology Company in Toronto</center></h1>"
   ]
  },
  {
   "cell_type": "markdown",
   "metadata": {},
   "source": [
    "<h2><center>Lemlem Ayele</center></h2>"
   ]
  },
  {
   "cell_type": "markdown",
   "metadata": {},
   "source": [
    "<h2><center>Nov 3rd, 2019</center></h2>"
   ]
  },
  {
   "cell_type": "markdown",
   "metadata": {},
   "source": [
    "## 1. Introduction\n"
   ]
  },
  {
   "cell_type": "markdown",
   "metadata": {},
   "source": [
    "### 1.1 Background"
   ]
  },
  {
   "cell_type": "markdown",
   "metadata": {},
   "source": [
    "<p>\n",
    "With over $8 billion in contributions to annual employee wages,\n",
    "Toronto's technology sector is one of the fast-growing in north America. Its great infrastructure, the ease of connection to the rest of the world,  good transit, and strong business-centric nature makes Toronto very attractive to international firms and companies.\n",
    "DexTR, a technology company based in San Francisco: engaged in design graphics processing units (GPUs), system chip for smartphone and vehicle navigation processors, is looking to open the second largest center in North America. \n",
    "</p>"
   ]
  },
  {
   "cell_type": "markdown",
   "metadata": {},
   "source": [
    "### 1.2 Problem."
   ]
  },
  {
   "cell_type": "markdown",
   "metadata": {},
   "source": [
    "<p>\n",
    "After months of regress research and analysis, DexTR has been decided Toronto as the next logical location for expansion in North America. \n",
    "Now that the decision has been made, the objective of this capstone is to analyze and select the optimal location for the DexTR office in the city of Toronto. Some of the criteria are as follow:\n",
    "    \n",
    "1. Neighborhood score\n",
    "2. Accessibility and public transit\n",
    "3. Venues\n",
    "4. Population density.\n",
    "5. Crime\n",
    "\n",
    "</p>\n",
    "\n",
    "### 1.3 Interest\n",
    "\n",
    "<p>\n",
    "    While the DexTR has a vested interest in gaining insight for their next office location, this information will be helpful for any startup or business considering Toronto. The analysis will also have some useful insight for real estate companies or individuals.\n",
    "</p>"
   ]
  },
  {
   "cell_type": "markdown",
   "metadata": {},
   "source": [
    "## 2.0 Data Acquisition and wrangling\n",
    "\n",
    "### 2.1 Data Source"
   ]
  },
  {
   "cell_type": "markdown",
   "metadata": {},
   "source": [
    "<p> The data for the city of Toronto neighborhood was obtained by scraping the Wikipedia page for the postal code of the city of Toronto, which consisted of corresponding borough and neighborhood. Additional dataset to evaluate crime and population density is obtained from the Toronto Police service: public safety data portal. \n",
    "</p>\n",
    "\n",
    "#### 2.2 Data Wrangling\n",
    "<p>\n",
    "The CSV file obtained by scraping the Wikipedia page was transformed into a pandas dataframe. They're some missing data, for example, rows with no assigned borough and neighborhood were dropped. While rows with postal code and borough, but no neighborhood, the neighborhood was set the same as its borough.\n",
    "We will then use a foursquare API to explore the different neighborhoods and boroughs to gain insight. Then we will do farther analysis by merging the two datasets for more in-depth insight.\n",
    "</p>\n"
   ]
  }
 ],
 "metadata": {
  "kernelspec": {
   "display_name": "Python 3.6",
   "language": "python",
   "name": "python3"
  },
  "language_info": {
   "codemirror_mode": {
    "name": "ipython",
    "version": 3
   },
   "file_extension": ".py",
   "mimetype": "text/x-python",
   "name": "python",
   "nbconvert_exporter": "python",
   "pygments_lexer": "ipython3",
   "version": "3.6.8"
  }
 },
 "nbformat": 4,
 "nbformat_minor": 1
}
